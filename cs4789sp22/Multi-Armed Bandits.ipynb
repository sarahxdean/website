{
 "cells": [
  {
   "cell_type": "code",
   "execution_count": null,
   "metadata": {},
   "outputs": [],
   "source": [
    "import numpy as np\n",
    "import matplotlib.pyplot as plt\n",
    "\n",
    "from utils import MultiArmedBandit, RewardHistory, update_plot, InteractivePlot"
   ]
  },
  {
   "cell_type": "code",
   "execution_count": null,
   "metadata": {},
   "outputs": [],
   "source": [
    "%matplotlib notebook"
   ]
  },
  {
   "cell_type": "markdown",
   "metadata": {},
   "source": [
    "# The Multi-Armed Bandit\n",
    "\n",
    "![title](https://cdn.analyticsvidhya.com/wp-content/uploads/2018/09/im_210.png)"
   ]
  },
  {
   "cell_type": "code",
   "execution_count": null,
   "metadata": {},
   "outputs": [],
   "source": [
    "mab = MultiArmedBandit()"
   ]
  },
  {
   "cell_type": "code",
   "execution_count": null,
   "metadata": {},
   "outputs": [],
   "source": [
    "print(mab.pull(4))"
   ]
  },
  {
   "cell_type": "markdown",
   "metadata": {},
   "source": [
    "\n",
    "<br />\n",
    "<br />\n",
    "<br />\n",
    "<br />\n",
    "<br />\n",
    "<br />\n",
    "<br />\n",
    "<br />\n",
    "<br />\n",
    "<br />\n",
    "<br />\n",
    "<br />\n",
    "<br />\n",
    "<br />\n",
    "<br />\n",
    "<br />\n",
    "<br />\n",
    "<br />"
   ]
  },
  {
   "cell_type": "markdown",
   "metadata": {},
   "source": [
    "# Interactive Demo with Recorded History"
   ]
  },
  {
   "cell_type": "code",
   "execution_count": null,
   "metadata": {},
   "outputs": [],
   "source": [
    "hist = RewardHistory(np.arange(mab.K))"
   ]
  },
  {
   "cell_type": "code",
   "execution_count": null,
   "metadata": {},
   "outputs": [],
   "source": [
    "fig, axs = plt.subplots(1,2,figsize=[9,3])\n",
    "plotter = InteractivePlot(mab, hist, axs, ci=True)\n",
    "display(plotter.combined)\n"
   ]
  },
  {
   "cell_type": "markdown",
   "metadata": {},
   "source": [
    "<br />\n",
    "<br />\n",
    "<br />\n",
    "<br />\n",
    "<br />\n",
    "<br />\n",
    "<br />\n",
    "<br />\n",
    "<br />\n",
    "<br />\n",
    "<br />\n",
    "<br />\n",
    "<br />\n",
    "<br />\n",
    "<br />\n",
    "<br />\n",
    "<br />\n",
    "<br />"
   ]
  },
  {
   "cell_type": "code",
   "execution_count": null,
   "metadata": {},
   "outputs": [],
   "source": [
    "def uniform_random_policy(hist):\n",
    "    return np.random.choice(hist.actions)\n",
    "\n",
    "def policy1(hist):\n",
    "    unexplored = hist.get_unexplored_actions()\n",
    "    if len(unexplored) > 0:\n",
    "        return unexplored[0] # np.random.choice(unexplored)\n",
    "    means = hist.get_means()\n",
    "    weights = np.exp(means) / np.sum(np.exp(means))\n",
    "    a = np.random.choice(hist.actions, p=weights)\n",
    "    return a\n",
    "\n",
    "def policy2(hist):\n",
    "    unexplored = hist.get_unexplored_actions()\n",
    "    if len(unexplored) > 0:\n",
    "        return unexplored[0] # np.random.choice(unexplored)\n",
    "    return hist.get_highest_mean()"
   ]
  },
  {
   "cell_type": "code",
   "execution_count": null,
   "metadata": {},
   "outputs": [],
   "source": [
    "mab = MultiArmedBandit()"
   ]
  },
  {
   "cell_type": "code",
   "execution_count": null,
   "metadata": {},
   "outputs": [],
   "source": [
    "hist = RewardHistory(np.arange(mab.K))\n",
    "\n",
    "policy = policy2\n",
    "T = 100\n",
    "for t in range(T):\n",
    "    arm = policy(hist)\n",
    "    reward = mab.pull(arm)\n",
    "    hist.record(arm, reward)"
   ]
  },
  {
   "cell_type": "code",
   "execution_count": null,
   "metadata": {},
   "outputs": [],
   "source": [
    "fig, axs = plt.subplots(1,2,figsize=[9,3])\n",
    "hist.compute_ci()\n",
    "\n",
    "## Cumulative reward\n",
    "# update_plot(axs, hist, mab.K, ci=True)\n",
    "# axs[1].plot(np.arange(hist.T), np.amax(mab.mus)*np.arange(hist.T))\n",
    "\n",
    "## Regret\n",
    "update_plot(axs, hist, mab.K, ci=True, baseline=np.amax(mab.mus)*np.arange(hist.T))\n",
    "\n",
    "axs[0].scatter(np.arange(mab.K), mab.mus, marker=\"*\");\n"
   ]
  },
  {
   "cell_type": "markdown",
   "metadata": {},
   "source": [
    "<br />\n",
    "<br />\n",
    "<br />\n",
    "<br />\n",
    "<br />\n",
    "<br />\n",
    "<br />\n",
    "<br />\n",
    "<br />\n",
    "<br />\n",
    "<br />\n",
    "<br />\n",
    "<br />\n",
    "<br />\n",
    "<br />\n",
    "<br />\n",
    "<br />\n",
    "<br />"
   ]
  },
  {
   "cell_type": "code",
   "execution_count": null,
   "metadata": {},
   "outputs": [],
   "source": []
  }
 ],
 "metadata": {
  "kernelspec": {
   "display_name": "Python 3",
   "language": "python",
   "name": "python3"
  },
  "language_info": {
   "codemirror_mode": {
    "name": "ipython",
    "version": 3
   },
   "file_extension": ".py",
   "mimetype": "text/x-python",
   "name": "python",
   "nbconvert_exporter": "python",
   "pygments_lexer": "ipython3",
   "version": "3.7.4"
  }
 },
 "nbformat": 4,
 "nbformat_minor": 2
}
